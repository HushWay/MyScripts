{
 "cells": [
  {
   "cell_type": "code",
   "execution_count": 3,
   "metadata": {},
   "outputs": [
    {
     "ename": "ModuleNotFoundError",
     "evalue": "No module named 'selenium'",
     "output_type": "error",
     "traceback": [
      "\u001b[1;31m---------------------------------------------------------------------------\u001b[0m",
      "\u001b[1;31mModuleNotFoundError\u001b[0m                       Traceback (most recent call last)",
      "\u001b[1;32m~\\AppData\\Local\\Temp\\ipykernel_10272\\851244340.py\u001b[0m in \u001b[0;36m<module>\u001b[1;34m\u001b[0m\n\u001b[0;32m      4\u001b[0m \u001b[1;31m# 加入必要的模块，没有的话先安装\u001b[0m\u001b[1;33m\u001b[0m\u001b[1;33m\u001b[0m\u001b[0m\n\u001b[0;32m      5\u001b[0m \u001b[1;32mfrom\u001b[0m \u001b[0mbs4\u001b[0m \u001b[1;32mimport\u001b[0m \u001b[0mBeautifulSoup\u001b[0m\u001b[1;33m\u001b[0m\u001b[1;33m\u001b[0m\u001b[0m\n\u001b[1;32m----> 6\u001b[1;33m \u001b[1;32mfrom\u001b[0m \u001b[0mselenium\u001b[0m \u001b[1;32mimport\u001b[0m \u001b[0mwebdriver\u001b[0m\u001b[1;33m\u001b[0m\u001b[1;33m\u001b[0m\u001b[0m\n\u001b[0m\u001b[0;32m      7\u001b[0m \u001b[1;32mfrom\u001b[0m \u001b[0mselenium\u001b[0m\u001b[1;33m.\u001b[0m\u001b[0mwebdriver\u001b[0m\u001b[1;33m.\u001b[0m\u001b[0mcommon\u001b[0m\u001b[1;33m.\u001b[0m\u001b[0mby\u001b[0m \u001b[1;32mimport\u001b[0m \u001b[0mBy\u001b[0m\u001b[1;33m\u001b[0m\u001b[1;33m\u001b[0m\u001b[0m\n\u001b[0;32m      8\u001b[0m \u001b[1;32mfrom\u001b[0m \u001b[0mselenium\u001b[0m\u001b[1;33m.\u001b[0m\u001b[0mwebdriver\u001b[0m\u001b[1;33m.\u001b[0m\u001b[0msupport\u001b[0m\u001b[1;33m.\u001b[0m\u001b[0mui\u001b[0m \u001b[1;32mimport\u001b[0m \u001b[0mWebDriverWait\u001b[0m\u001b[1;33m\u001b[0m\u001b[1;33m\u001b[0m\u001b[0m\n",
      "\u001b[1;31mModuleNotFoundError\u001b[0m: No module named 'selenium'"
     ]
    }
   ],
   "source": [
    "#! python3\n",
    "# findMagazine.py - 复制LetPub杂志信息地址，运行此脚本获取“SCI IF\t出版周期\t年收稿量\tJCR分区\t中科院分区（基础版）\t中科院分区（升级版）”信息\n",
    "\n",
    "# 加入必要的模块，没有的话先安装\n",
    "from bs4 import BeautifulSoup\n",
    "from selenium import webdriver\n",
    "from selenium.webdriver.common.by import By\n",
    "from selenium.webdriver.support.ui import WebDriverWait\n",
    "from selenium.webdriver.support import expected_conditions as EC\n",
    "from selenium.common.exceptions import NoSuchElementException\n",
    "from time import sleep\n",
    "\n",
    "# 配置浏览器，后台静默运行\n",
    "option = webdriver.ChromeOptions()\n",
    "# I use the following options as my machine is a window subsystem linux. \n",
    "# I recommend to use the headless option at least, out of the 3\n",
    "# option.add_argument('--headless')\n",
    "option.add_argument('--no-sandbox')\n",
    "option.add_argument('--disable-dev-sh-usage')\n",
    "option.add_argument('--start-maximized')\n",
    "# option.add_argument(\"user-data-dir=C:\\\\Users\\\\way\\\\AppData\\\\Local\\\\Google\\\\Chrome\\\\User Data\")\n",
    "# Replace YOUR-PATH-TO-CHROMEDRIVER with your chromedriver location\n",
    "driver = webdriver.Chrome('D://Program Files//Python//Python37//Scripts//chromedriver.exe', options=option)\n",
    "\n",
    "def wait_for_visibility(self, selector, timeout_seconds=10):\n",
    "    retries = timeout_seconds\n",
    "    while retries:\n",
    "        try:\n",
    "            element = self.get_via_css(selector)\n",
    "            if element.is_displayed():\n",
    "                return element\n",
    "        except (exceptions.NoSuchElementException,\n",
    "                exceptions.StaleElementReferenceException):\n",
    "            if retries <= 0:\n",
    "                raise\n",
    "            else:\n",
    "                pass\n",
    "\n",
    "        retries = retries - 1\n",
    "        time.sleep(pause_interval)\n",
    "    raise exceptions.ElementNotVisibleException(\n",
    "        \"Element %s not visible despite waiting for %s seconds\" % (\n",
    "            selector, timeout_seconds)\n",
    "    )\n",
    "\n",
    "# 登陆账号（速度太慢，手动登陆一次即可）\n",
    "driver.get(\"https://www.letpub.com.cn/index.php?page=login\")\n",
    "try:\n",
    "    # WebDriverWait(driver, 0, 0.5).until(EC.presence_of_element_located((By.ID, \"form\")))\n",
    "    sleep(1)\n",
    "    print(\"Form showed up\")\n",
    "    driver.find_element_by_id(\"email\").send_keys(\"2628201733@qq.com\")\n",
    "    driver.find_element_by_id(\"password\").send_keys(\"liuwei\")\n",
    "except:\n",
    "    print(\"loggin error.\")\n",
    "driver.execute_script(\"login()\")\n",
    "# 结束"
   ]
  }
 ],
 "metadata": {
  "kernelspec": {
   "display_name": "Python 3.9.13 ('base')",
   "language": "python",
   "name": "python3"
  },
  "language_info": {
   "codemirror_mode": {
    "name": "ipython",
    "version": 3
   },
   "file_extension": ".py",
   "mimetype": "text/x-python",
   "name": "python",
   "nbconvert_exporter": "python",
   "pygments_lexer": "ipython3",
   "version": "3.9.13"
  },
  "orig_nbformat": 4,
  "vscode": {
   "interpreter": {
    "hash": "e42634819b8c191a5d07eaf23810ff32516dd8d3875f28ec3e488928fbd3c187"
   }
  }
 },
 "nbformat": 4,
 "nbformat_minor": 2
}
