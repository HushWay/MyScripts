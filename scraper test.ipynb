{
 "cells": [
  {
   "cell_type": "code",
   "execution_count": 146,
   "metadata": {},
   "outputs": [],
   "source": [
    "# 加入必要的模块，没有的话先安装\n",
    "from bs4 import BeautifulSoup\n",
    "from selenium import webdriver\n",
    "from selenium.webdriver.common.by import By\n",
    "from selenium.webdriver.support.ui import WebDriverWait\n",
    "from selenium.webdriver.support import expected_conditions as EC\n",
    "from time import sleep\n",
    "from selenium.common.exceptions import NoSuchElementException\n",
    "import pyperclip, re"
   ]
  },
  {
   "cell_type": "code",
   "execution_count": 89,
   "metadata": {},
   "outputs": [
    {
     "name": "stderr",
     "output_type": "stream",
     "text": [
      "<ipython-input-89-2fa1a36b7727>:9: DeprecationWarning: executable_path has been deprecated, please pass in a Service object\n",
      "  driver = webdriver.Chrome('D://Program Files//Python//Python37//Scripts//chromedriver.exe', options=option)\n"
     ]
    }
   ],
   "source": [
    "# 配置浏览器，后台静默运行\n",
    "option = webdriver.ChromeOptions()\n",
    "# I use the following options as my machine is a window subsystem linux. \n",
    "# I recommend to use the headless option at least, out of the 3\n",
    "option.add_argument('--headless')\n",
    "option.add_argument('--no-sandbox')\n",
    "option.add_argument('--disable-dev-sh-usage')\n",
    "# option.add_argument('--start-maximized')\n",
    "# Replace YOUR-PATH-TO-CHROMEDRIVER with your chromedriver location\n",
    "driver = webdriver.Chrome('D://Program Files//Python//Python37//Scripts//chromedriver.exe', options=option)"
   ]
  },
  {
   "cell_type": "code",
   "execution_count": 90,
   "metadata": {},
   "outputs": [
    {
     "name": "stderr",
     "output_type": "stream",
     "text": [
      "<ipython-input-90-0523c73fa561>:2: DeprecationWarning: find_element_by_* commands are deprecated. Please use find_element() instead\n",
      "  email = driver.find_element_by_id(\"email\")\n",
      "<ipython-input-90-0523c73fa561>:6: DeprecationWarning: find_element_by_name is deprecated. Please use find_element(by=By.NAME, value=name) instead\n",
      "  password = driver.find_element_by_name(\"password\")\n"
     ]
    }
   ],
   "source": [
    "# 登陆账号\n",
    "driver.get(\"https://www.letpub.com.cn/index.php?page=login\")\n",
    "email = driver.find_element_by_id(\"email\")\n",
    "email.clear()\n",
    "email.send_keys(\"2628201733@qq.com\")\n",
    "\n",
    "password = driver.find_element_by_name(\"password\")\n",
    "password.clear()\n",
    "password.send_keys(\"liuwei\")\n",
    "driver.execute_script(\"login()\")"
   ]
  },
  {
   "cell_type": "code",
   "execution_count": 91,
   "metadata": {},
   "outputs": [],
   "source": [
    "# 访问给定杂志的结果\n",
    "url = pyperclip.paste()\n",
    "page = driver.get(url) # Getting page HTML through request\n",
    "# WebDriverWait(driver, 5).until(EC.visibility_of_element_located((By.CSS_SELECTOR, \"table_yjfx\")))  # We are waiting for 5 seconds for our element with the attribute data-testid set as `firstListCardGroup-editorial`\n",
    "driver.implicitly_wait(30) # 等待页面加载完毕\n",
    "driver.refresh() # 刷新去除弹窗广告 "
   ]
  },
  {
   "cell_type": "code",
   "execution_count": 101,
   "metadata": {},
   "outputs": [],
   "source": [
    "soup = BeautifulSoup(driver.page_source, 'html.parser') # Parsing content using beautifulsoup"
   ]
  },
  {
   "cell_type": "code",
   "execution_count": null,
   "metadata": {},
   "outputs": [],
   "source": [
    "info = soup.find_all(\"table\", {\"class\": \"table_yjfx\"})[1]"
   ]
  },
  {
   "cell_type": "code",
   "execution_count": 191,
   "metadata": {},
   "outputs": [],
   "source": [
    "rows = info.find('tbody').findAll(\"tr\", recursive=False)"
   ]
  },
  {
   "cell_type": "code",
   "execution_count": null,
   "metadata": {},
   "outputs": [],
   "source": [
    "rows"
   ]
  },
  {
   "cell_type": "code",
   "execution_count": 216,
   "metadata": {},
   "outputs": [
    {
     "data": {
      "text/plain": [
       "'7.561'"
      ]
     },
     "execution_count": 216,
     "metadata": {},
     "output_type": "execute_result"
    }
   ],
   "source": [
    "# 提取影响因子\n",
    "number_re = re.compile(r'[0-9.]+')\n",
    "row = info.find('tbody').find(lambda tag:tag.name == \"tr\" and \"最新IF\" in tag.text)\n",
    "impact_factor = number_re.search(row.findAll(\"td\")[1].text).group()\n",
    "impact_factor\n",
    "\n"
   ]
  },
  {
   "cell_type": "code",
   "execution_count": 218,
   "metadata": {},
   "outputs": [
    {
     "data": {
      "text/plain": [
       "'English'"
      ]
     },
     "execution_count": 218,
     "metadata": {},
     "output_type": "execute_result"
    }
   ],
   "source": [
    "# 出版周期\n",
    "row = info.find('tbody').find(lambda tag:tag.name == \"tr\" and \"出版周期\" in tag.text)\n",
    "frequency = row.findAll(\"td\")[1].text\n",
    "frequency"
   ]
  },
  {
   "cell_type": "code",
   "execution_count": 219,
   "metadata": {},
   "outputs": [
    {
     "data": {
      "text/plain": [
       "'3298'"
      ]
     },
     "execution_count": 219,
     "metadata": {},
     "output_type": "execute_result"
    }
   ],
   "source": [
    "# 年文章数\n",
    "row = info.find('tbody').find(lambda tag:tag.name == \"tr\" and \"年文章数\" in tag.text)\n",
    "NO_articles_year = number_re.search(row.findAll(\"td\")[1].text).group()\n",
    "NO_articles_year"
   ]
  },
  {
   "cell_type": "code",
   "execution_count": 220,
   "metadata": {},
   "outputs": [
    {
     "data": {
      "text/plain": [
       "'IMMUNOLOGY Q1'"
      ]
     },
     "execution_count": 220,
     "metadata": {},
     "output_type": "execute_result"
    }
   ],
   "source": [
    "# SCI分区\n",
    "def findDisplayedElementContent(eles):\n",
    "    for ele in eles:\n",
    "        try:\n",
    "            ele['style']\n",
    "            if 'display:none' not in ele['style']:\n",
    "                result = ele.text\n",
    "        except:\n",
    "            print(\"Element do not have 'style' attribute\")\n",
    "    return result\n",
    "\n",
    "row = info.find('tbody').find(lambda tag:tag.name == \"tr\" and \"期刊SCI分区\" in tag.text)\n",
    "SCI_info = row.findAll(\"td\")[1].findAll(\"tr\")[1].find(\"td\")\n",
    "domain = SCI_info.findAll(text = True, recursive=False)[0]\n",
    "partition = findDisplayedElementContent(SCI_info.findAll(\"span\"))\n",
    "SCI_partition = domain + partition\n",
    "SCI_partition"
   ]
  },
  {
   "cell_type": "code",
   "execution_count": 221,
   "metadata": {},
   "outputs": [
    {
     "data": {
      "text/plain": [
       "'医学 2区'"
      ]
     },
     "execution_count": 221,
     "metadata": {},
     "output_type": "execute_result"
    }
   ],
   "source": [
    "# 中科院分区（基础版）\n",
    "row = info.find('tbody').find(lambda tag:tag.name == \"tr\" and \"最新基础版\" in tag.text)\n",
    "CST_info = row.findAll(\"td\")[1].find(\"td\")\n",
    "CST_domain = CST_info.findAll(text = True, recursive=False)[0]\n",
    "CST_part = findDisplayedElementContent(CST_info.findAll(\"span\"))\n",
    "CST_partition = CST_domain + CST_part\n",
    "CST_partition"
   ]
  },
  {
   "cell_type": "code",
   "execution_count": 208,
   "metadata": {},
   "outputs": [
    {
     "data": {
      "text/plain": [
       "'医学 2区'"
      ]
     },
     "execution_count": 208,
     "metadata": {},
     "output_type": "execute_result"
    }
   ],
   "source": [
    "# 中科院分区（升级版）\n",
    "row = info.find('tbody').find(lambda tag:tag.name == \"tr\" and \"最新升级版\" in tag.text)\n",
    "CST_info_up = row.findAll(\"td\")[1].find(\"td\")\n",
    "CST_domain_up = CST_info_up.findAll(text = True, recursive=False)[0]\n",
    "CST_part_up = findDisplayedElementContent(CST_info_up.findAll(\"span\"))\n",
    "CST_partition_up = CST_domain_up + CST_part_up\n",
    "CST_partition_up"
   ]
  },
  {
   "cell_type": "code",
   "execution_count": 213,
   "metadata": {},
   "outputs": [
    {
     "name": "stdout",
     "output_type": "stream",
     "text": [
      "IF: 7.561, 出版周期: English, 年文章数：3298, SCI分区:IMMUNOLOGY Q1, 中科院分区(基础版):医学 2区, 中科院分区(升级版)医学 2区\n"
     ]
    }
   ],
   "source": [
    "# 将结果粘到剪贴板，以\\t分隔便于贴到excel中\n",
    "result = '\\t'.join([impact_factor, frequency, NO_articles_year, SCI_partition, CST_partition, CST_partition_up])\n",
    "pyperclip.copy(result)\n",
    "print('IF: ' + str(impact_factor) + ', 出版周期: ' + str(frequency) + ', 年文章数：' + str(NO_articles_year) +', SCI分区:' + SCI_partition + ', 中科院分区(基础版):' + CST_partition + ', 中科院分区(升级版)' + CST_partition_up)"
   ]
  }
 ],
 "metadata": {
  "interpreter": {
   "hash": "46c6ef5bae76587ef648c3ec62141df53d94abda2dd710fe62cd32aefa5db357"
  },
  "kernelspec": {
   "display_name": "Python 3.8.5 64-bit ('base': conda)",
   "language": "python",
   "name": "python3"
  },
  "language_info": {
   "codemirror_mode": {
    "name": "ipython",
    "version": 3
   },
   "file_extension": ".py",
   "mimetype": "text/x-python",
   "name": "python",
   "nbconvert_exporter": "python",
   "pygments_lexer": "ipython3",
   "version": "3.8.5"
  },
  "orig_nbformat": 4
 },
 "nbformat": 4,
 "nbformat_minor": 2
}
