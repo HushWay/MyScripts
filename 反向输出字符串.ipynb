{
 "cells": [
  {
   "cell_type": "markdown",
   "metadata": {},
   "source": [
    "反向输出字符串，用于pubmed邮箱"
   ]
  },
  {
   "cell_type": "code",
   "execution_count": null,
   "metadata": {},
   "outputs": [],
   "source": [
    "import pyperclip\n",
    "\n",
    "# 读取剪贴板内容\n",
    "text = pyperclip.paste()\n",
    "result = text[::-1]\n",
    "pyperclip.copy(result)"
   ]
  }
 ],
 "metadata": {
  "interpreter": {
   "hash": "8c80650d41c17d5026d5eac3dbc05e490e36408eb8d7f20a34869bb1ec037432"
  },
  "kernelspec": {
   "display_name": "Python 3.7.4 64-bit",
   "name": "python3"
  },
  "language_info": {
   "codemirror_mode": {
    "name": "ipython",
    "version": 3
   },
   "file_extension": ".py",
   "mimetype": "text/x-python",
   "name": "python",
   "nbconvert_exporter": "python",
   "pygments_lexer": "ipython3",
   "version": "3.8.5"
  },
  "orig_nbformat": 4
 },
 "nbformat": 4,
 "nbformat_minor": 2
}
